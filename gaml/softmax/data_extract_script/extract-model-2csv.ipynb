{
 "cells": [
  {
   "cell_type": "code",
   "execution_count": 2,
   "metadata": {
    "collapsed": false
   },
   "outputs": [],
   "source": [
    "from gensim.models import Doc2Vec\n",
    "import gzip\n",
    "import json\n",
    "import numpy as np\n",
    "import sklearn.datasets as svmlight"
   ]
  },
  {
   "cell_type": "code",
   "execution_count": 3,
   "metadata": {
    "collapsed": true
   },
   "outputs": [],
   "source": [
    "def instance_generator(reviews_path, model_path):\n",
    "    model = Doc2Vec.load(model_path)\n",
    "    with gzip.open(reviews_path, 'rt') as file:\n",
    "        for index, line in enumerate(file):\n",
    "            review = json.loads(line)\n",
    "            yield model.infer_vector(review['reviewText'].split()), review['overall']"
   ]
  },
  {
   "cell_type": "code",
   "execution_count": 4,
   "metadata": {
    "collapsed": false
   },
   "outputs": [
    {
     "name": "stdout",
     "output_type": "stream",
     "text": [
      "Getting data...\n"
     ]
    }
   ],
   "source": [
    "print \"Getting data...\""
   ]
  },
  {
   "cell_type": "code",
   "execution_count": 5,
   "metadata": {
    "collapsed": false
   },
   "outputs": [],
   "source": [
    "reviews_path = '/home/rosko/Downloads/sample_data.json.gz'\n",
    "model_path = '/media/sf_SharedFolder/Work/example/embedding_model/reviews_Movies_and_TV.model'\n",
    "\n",
    "data = np.row_stack(\n",
    "        np.append(vector, label)\n",
    "        for vector, label in instance_generator(reviews_path, model_path))"
   ]
  },
  {
   "cell_type": "code",
   "execution_count": 6,
   "metadata": {
    "collapsed": false
   },
   "outputs": [
    {
     "name": "stdout",
     "output_type": "stream",
     "text": [
      "Split index is: 16000\n"
     ]
    }
   ],
   "source": [
    "# 80 % for training and 20% for testing\n",
    "split_index = int(0.8 * data.shape[0])\n",
    "numCols = int(data.shape[1])\n",
    "\n",
    "print \"Split index is: \" + str(split_index)"
   ]
  },
  {
   "cell_type": "code",
   "execution_count": 7,
   "metadata": {
    "collapsed": false
   },
   "outputs": [
    {
     "name": "stdout",
     "output_type": "stream",
     "text": [
      "Saving train data...\n"
     ]
    }
   ],
   "source": [
    "print \"Saving train data...\""
   ]
  },
  {
   "cell_type": "code",
   "execution_count": 9,
   "metadata": {
    "collapsed": false
   },
   "outputs": [],
   "source": [
    "train = data[:split_index]\n",
    "svmlight.dump_svmlight_file(train[:,0:(numCols-2)], train[:,(numCols-1)], \"train.libsvm\")"
   ]
  },
  {
   "cell_type": "code",
   "execution_count": 10,
   "metadata": {
    "collapsed": false
   },
   "outputs": [
    {
     "name": "stdout",
     "output_type": "stream",
     "text": [
      "Saving test data...\n"
     ]
    }
   ],
   "source": [
    "print \"Saving test data...\""
   ]
  },
  {
   "cell_type": "code",
   "execution_count": 11,
   "metadata": {
    "collapsed": true
   },
   "outputs": [],
   "source": [
    "test = data[split_index:]\n",
    "svmlight.dump_svmlight_file(test[:,0:(numCols-2)], test[:,(numCols-1)], \"test.libsvm\")"
   ]
  },
  {
   "cell_type": "code",
   "execution_count": 12,
   "metadata": {
    "collapsed": false
   },
   "outputs": [
    {
     "name": "stdout",
     "output_type": "stream",
     "text": [
      "DONE!\n"
     ]
    }
   ],
   "source": [
    "print \"DONE!\""
   ]
  },
  {
   "cell_type": "code",
   "execution_count": null,
   "metadata": {
    "collapsed": true
   },
   "outputs": [],
   "source": []
  }
 ],
 "metadata": {
  "kernelspec": {
   "display_name": "Python 2",
   "language": "python",
   "name": "python2"
  },
  "language_info": {
   "codemirror_mode": {
    "name": "ipython",
    "version": 2
   },
   "file_extension": ".py",
   "mimetype": "text/x-python",
   "name": "python",
   "nbconvert_exporter": "python",
   "pygments_lexer": "ipython2",
   "version": "2.7.11"
  }
 },
 "nbformat": 4,
 "nbformat_minor": 0
}
