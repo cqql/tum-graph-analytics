{
 "cells": [
  {
   "cell_type": "code",
   "execution_count": 1,
   "metadata": {
    "collapsed": true
   },
   "outputs": [],
   "source": [
    "from gensim.models import Doc2Vec\n",
    "import gzip\n",
    "import json\n",
    "import numpy as np\n",
    "import sklearn.datasets as svmlight\n",
    "from tqdm import tqdm\n",
    "import struct\n",
    "import time as t"
   ]
  },
  {
   "cell_type": "code",
   "execution_count": 3,
   "metadata": {
    "collapsed": true
   },
   "outputs": [],
   "source": [
    "def instance_generator(reviews_path, model_path):\n",
    "    start = t.time()\n",
    "    print \"Loading model\"\n",
    "    model = Doc2Vec.load(model_path)\n",
    "    print \"Model loaded \" + str(t.time() - start)\n",
    "    with gzip.open(reviews_path, 'rt') as file:\n",
    "        for index, line in enumerate(file):\n",
    "            review = json.loads(line)\n",
    "            yield model.infer_vector(review['reviewText'].split()), review['overall']"
   ]
  },
  {
   "cell_type": "code",
   "execution_count": 4,
   "metadata": {
    "collapsed": true
   },
   "outputs": [],
   "source": [
    "reviews_path = '/media/sf_SharedFolder/Work/reviews_Movies_and_TV.json.gz'\n",
    "model_path = '/media/sf_SharedFolder/Work/reviews_Movies_and_TV_10_iter/reviews_Movies_and_TV_10_iter.model'"
   ]
  },
  {
   "cell_type": "code",
   "execution_count": 5,
   "metadata": {
    "collapsed": true
   },
   "outputs": [],
   "source": [
    "numData = 10 #4607047\n",
    "trainFile = open(\"train.bin\",'wb')\n",
    "testFile = open(\"test.bin\",'wb')\n",
    "splitIndex = int(numData * 0.8)\n",
    "counter = 0\n",
    "trainTotal = 0\n",
    "testTotal = 0"
   ]
  },
  {
   "cell_type": "code",
   "execution_count": 6,
   "metadata": {
    "collapsed": true
   },
   "outputs": [],
   "source": [
    "generator = instance_generator(reviews_path, model_path)"
   ]
  },
  {
   "cell_type": "code",
   "execution_count": 7,
   "metadata": {
    "collapsed": false
   },
   "outputs": [
    {
     "name": "stdout",
     "output_type": "stream",
     "text": [
      "Loading model\n",
      "Model loaded 1490.61938\n"
     ]
    }
   ],
   "source": [
    "firstItem = generator.next()"
   ]
  },
  {
   "cell_type": "code",
   "execution_count": 9,
   "metadata": {
    "collapsed": true
   },
   "outputs": [],
   "source": [
    "data, label = firstItem"
   ]
  },
  {
   "cell_type": "code",
   "execution_count": 10,
   "metadata": {
    "collapsed": false
   },
   "outputs": [
    {
     "name": "stdout",
     "output_type": "stream",
     "text": [
      "5.0\n",
      "[ 0.07281964 -0.07309061  0.09121358 -0.02516105 -0.03431757  0.01124451\n",
      " -0.02146955  0.05584503  0.10624689  0.03757361 -0.09313691 -0.08094016\n",
      "  0.07018719 -0.02022887 -0.04694077 -0.09414592 -0.00476757 -0.03362409\n",
      "  0.0112598   0.00504653 -0.01374767 -0.03200675  0.03336418 -0.02601656\n",
      " -0.01432126 -0.18985377  0.01653242  0.01178518 -0.10437147 -0.01401403\n",
      "  0.11215    -0.04679803 -0.03055377 -0.04665656 -0.12649538 -0.07602451\n",
      "  0.0090443   0.06474606  0.08730175  0.07447679  0.05891914  0.01023755\n",
      "  0.07061474  0.02329992 -0.1356023  -0.07796206  0.03424679 -0.02311491\n",
      "  0.07928266 -0.03935521  0.03184641  0.10626584  0.06989402 -0.00810345\n",
      " -0.04677203  0.02935249 -0.0686729   0.06171762  0.04195048 -0.00382214\n",
      " -0.07091703 -0.02806549 -0.05604827 -0.07996546 -0.04530774 -0.08802909\n",
      "  0.02601231  0.07230622  0.02714146  0.01673877  0.04263113  0.03994076\n",
      " -0.05371955 -0.00027298  0.12548277 -0.04180731 -0.0456234   0.02876995\n",
      " -0.00910043  0.0220576  -0.00599989  0.10293856  0.00638401  0.0046962\n",
      "  0.0925291  -0.09665252  0.02289887  0.00965438  0.00369229 -0.03468354\n",
      " -0.10034913  0.02911955 -0.0682051   0.06394842 -0.03543676  0.0804852\n",
      " -0.09731664 -0.03124212 -0.05617822  0.03354198 -0.05521228 -0.06935343\n",
      "  0.0151122  -0.01366507  0.03525351 -0.05818485 -0.06841409  0.06971838\n",
      "  0.00140208  0.02254635 -0.01765744  0.01434552 -0.00111922  0.01561494\n",
      " -0.08255991 -0.00986976 -0.08694985  0.10606948 -0.01631957 -0.03206649\n",
      " -0.01678251 -0.02701444 -0.03265134 -0.06277167 -0.02888635 -0.00738759\n",
      "  0.02959962  0.03438512 -0.11766444 -0.0074709  -0.02127837  0.00327287\n",
      "  0.01797425 -0.02312422 -0.09384187  0.00468739 -0.07338503  0.01100085\n",
      " -0.01056605  0.01066148 -0.08020605  0.02099717  0.07332083  0.02906993\n",
      " -0.02722015 -0.00591673  0.05526048  0.08021599  0.15529118 -0.03250628\n",
      " -0.02094085  0.0704864  -0.1335735  -0.07022875 -0.11620057 -0.02115645\n",
      "  0.00874043  0.0931356  -0.05542229 -0.03024825  0.09641375 -0.00091481\n",
      " -0.01144149  0.09300781 -0.00167121  0.07094929 -0.01895385  0.02525374\n",
      "  0.16137274 -0.02875324  0.02382293  0.00770193 -0.0178524   0.06648719\n",
      "  0.05719496 -0.00597226  0.04239182  0.08017672 -0.01971094  0.06496899\n",
      "  0.09798813  0.03349291  0.12166649  0.06647052 -0.08932897 -0.03014179\n",
      "  0.03108272  0.03070169  0.06136436 -0.0124354   0.01071643 -0.02321057\n",
      " -0.03795739 -0.02114521  0.06368764  0.04594803  0.07213046  0.12680994\n",
      " -0.02425573  0.01328777  0.10970373 -0.05559802  0.0493568  -0.00110147\n",
      " -0.06716745 -0.07379467 -0.01253104  0.18289125  0.10461366  0.0323806\n",
      " -0.03649399  0.01099456  0.03154079  0.04332186  0.04905524 -0.0100202\n",
      " -0.08595739 -0.12968586  0.00781944  0.02927568 -0.06374989 -0.03792525\n",
      " -0.0181208   0.05232247  0.01918357  0.04730041  0.03795735  0.03258\n",
      "  0.01561149  0.0297466  -0.06267063 -0.04009864  0.07315258  0.12073912\n",
      "  0.03011196  0.00425381  0.00937487 -0.11111819  0.04882681 -0.15414709\n",
      " -0.02328045  0.04336201  0.07383233 -0.00079725 -0.01377775  0.01476324\n",
      "  0.03876828 -0.09560748  0.01776416 -0.09911536 -0.04306914  0.03341784\n",
      "  0.00942113 -0.08483399  0.08595273 -0.02970027  0.01936738  0.07782681\n",
      "  0.00384564  0.01427554  0.10511617 -0.04423247 -0.03709074  0.04297669\n",
      "  0.0528673  -0.00958699 -0.03202423  0.02650346  0.00191503  0.00305967\n",
      "  0.07056854 -0.02795168 -0.02694981 -0.02406852 -0.0613457  -0.07716384\n",
      " -0.00281761  0.05553982 -0.10530762  0.02889441  0.08740597 -0.01929436\n",
      " -0.0542816   0.0790486  -0.00810393 -0.08718771 -0.10403779  0.01300216\n",
      "  0.02439446  0.0441911   0.10975994 -0.00491474 -0.12675925 -0.04231632\n",
      "  0.10075097 -0.02148027 -0.03711959  0.02078974 -0.07544833  0.08335487]\n"
     ]
    }
   ],
   "source": [
    "print label\n",
    "print data"
   ]
  },
  {
   "cell_type": "code",
   "execution_count": 20,
   "metadata": {
    "collapsed": false
   },
   "outputs": [],
   "source": [
    "trainFile = open(\"train.bin\",'wb')\n",
    "trainFile.write(struct.pack(\"i\", int(label)))\n",
    "indexes = data.nonzero()[0]\n",
    "values = data[indexes]\n",
    "for i in xrange(len(indexes)):\n",
    "    trainFile.write(struct.pack(\"f\", float(values[i])))\n",
    "#trainFile.write(struct.pack(\"f\", float(values[1])))\n",
    "trainFile.close()"
   ]
  },
  {
   "cell_type": "code",
   "execution_count": 16,
   "metadata": {
    "collapsed": true
   },
   "outputs": [],
   "source": []
  },
  {
   "cell_type": "code",
   "execution_count": null,
   "metadata": {
    "collapsed": true
   },
   "outputs": [],
   "source": []
  }
 ],
 "metadata": {
  "kernelspec": {
   "display_name": "Python 2",
   "language": "python",
   "name": "python2"
  },
  "language_info": {
   "codemirror_mode": {
    "name": "ipython",
    "version": 2
   },
   "file_extension": ".py",
   "mimetype": "text/x-python",
   "name": "python",
   "nbconvert_exporter": "python",
   "pygments_lexer": "ipython2",
   "version": "2.7.11"
  }
 },
 "nbformat": 4,
 "nbformat_minor": 0
}
