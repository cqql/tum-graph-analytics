{
 "cells": [
  {
   "cell_type": "code",
   "execution_count": 1,
   "metadata": {
    "collapsed": false
   },
   "outputs": [],
   "source": [
    "from gensim.models import Doc2Vec\n",
    "import gzip\n",
    "import json\n",
    "import numpy as np\n",
    "import sklearn.datasets as svmlight"
   ]
  },
  {
   "cell_type": "code",
   "execution_count": 2,
   "metadata": {
    "collapsed": true
   },
   "outputs": [],
   "source": [
    "def instance_generator(reviews_path, model_path):\n",
    "    model = Doc2Vec.load(model_path)\n",
    "    with gzip.open(reviews_path, 'rt') as file:\n",
    "        for index, line in enumerate(file):\n",
    "            review = json.loads(line)\n",
    "            yield model.infer_vector(review['reviewText'].split()), review['overall']"
   ]
  },
  {
   "cell_type": "code",
   "execution_count": null,
   "metadata": {
    "collapsed": false
   },
   "outputs": [
    {
     "name": "stdout",
     "output_type": "stream",
     "text": [
      "Getting data...\n"
     ]
    }
   ],
   "source": [
    "print \"Getting data...\""
   ]
  },
  {
   "cell_type": "code",
   "execution_count": null,
   "metadata": {
    "collapsed": false
   },
   "outputs": [],
   "source": [
    "reviews_path = '/media/sf_SharedFolder/Work/reviews_Movies_and_TV.json.gz'\n",
    "model_path = '/media/sf_SharedFolder/Work/reviews_Movies_and_TV_10_iter/reviews_Movies_and_TV_10_iter.model'\n",
    "\n",
    "data = np.row_stack(\n",
    "        np.append(vector, label)\n",
    "        for vector, label in instance_generator(reviews_path, model_path))"
   ]
  },
  {
   "cell_type": "code",
   "execution_count": null,
   "metadata": {
    "collapsed": false
   },
   "outputs": [],
   "source": [
    "# 80 % for training and 20% for testing\n",
    "split_index = int(0.8 * data.shape[0])\n",
    "numCols = data.shape[1]\n",
    "\n",
    "print \"Split index is: \" + str(split_index)\n",
    "print \"Number of cols: \" + str(numCols)"
   ]
  },
  {
   "cell_type": "code",
   "execution_count": null,
   "metadata": {
    "collapsed": false
   },
   "outputs": [],
   "source": [
    "print \"Saving train data...\""
   ]
  },
  {
   "cell_type": "code",
   "execution_count": null,
   "metadata": {
    "collapsed": true
   },
   "outputs": [],
   "source": [
    "train = data[:split_index]\n",
    "svmlight.dump_svmlight_file(train[:,0:(numCols-2)], train[:,(numCols-1)], \"train10_movTV.libsvm\")"
   ]
  },
  {
   "cell_type": "code",
   "execution_count": null,
   "metadata": {
    "collapsed": false
   },
   "outputs": [],
   "source": [
    "print \"Saving test data...\""
   ]
  },
  {
   "cell_type": "code",
   "execution_count": null,
   "metadata": {
    "collapsed": true
   },
   "outputs": [],
   "source": [
    "test = data[split_index:]\n",
    "svmlight.dump_svmlight_file(test[:,0:(numCols-2)], test[:,(numCols-1)], \"test10_movTV.libsvm\")"
   ]
  },
  {
   "cell_type": "code",
   "execution_count": null,
   "metadata": {
    "collapsed": false
   },
   "outputs": [],
   "source": [
    "print \"DONE!\"\n",
    "print \"Train size: \" + str(len(train))\n",
    "print \"Test size: \" + str(len(test))"
   ]
  }
 ],
 "metadata": {
  "kernelspec": {
   "display_name": "Python 2",
   "language": "python",
   "name": "python2"
  },
  "language_info": {
   "codemirror_mode": {
    "name": "ipython",
    "version": 2
   },
   "file_extension": ".py",
   "mimetype": "text/x-python",
   "name": "python",
   "nbconvert_exporter": "python",
   "pygments_lexer": "ipython2",
   "version": "2.7.11"
  }
 },
 "nbformat": 4,
 "nbformat_minor": 0
}
