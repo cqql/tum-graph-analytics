{
 "cells": [
  {
   "cell_type": "code",
   "execution_count": 1,
   "metadata": {
    "collapsed": false
   },
   "outputs": [],
   "source": [
    "import gzip\n",
    "from sets import Set\n",
    "import itertools\n",
    "from igraph import *\n",
    "import matplotlib.pyplot as plt\n",
    "\n",
    "def parse(path):\n",
    "  g = gzip.open(path, 'r')\n",
    "  for l in g:\n",
    "    yield eval(l)"
   ]
  },
  {
   "cell_type": "code",
   "execution_count": 2,
   "metadata": {
    "collapsed": false
   },
   "outputs": [],
   "source": [
    "videoGamesMetadata = parse('meta_Video_Games.json.gz')"
   ]
  },
  {
   "cell_type": "code",
   "execution_count": 3,
   "metadata": {
    "collapsed": false
   },
   "outputs": [],
   "source": [
    "relatedKey = 'related'\n",
    "alsoBoughtKey = 'also_bought'\n",
    "\n",
    "pairCounts = dict();\n",
    "\n",
    "for item in videoGamesMetadata:\n",
    "    if relatedKey in item:\n",
    "        relatedData = item[relatedKey]\n",
    "\n",
    "        if alsoBoughtKey in relatedData:\n",
    "            alsoBoughtUsers = relatedData[alsoBoughtKey]\n",
    "            allPairs = itertools.combinations(alsoBoughtUsers, 2)\n",
    "\n",
    "            for pair in allPairs:\n",
    "                sortedPair = list(pair)\n",
    "                sortedPair.sort()\n",
    "                pairKey = tuple(sortedPair)\n",
    "\n",
    "                if pairKey in pairCounts:\n",
    "                    pairCounts[pairKey] = pairCounts[pairKey] + 1\n",
    "                else:\n",
    "                    pairCounts[pairKey] = 1"
   ]
  },
  {
   "cell_type": "code",
   "execution_count": null,
   "metadata": {
    "collapsed": false
   },
   "outputs": [],
   "source": [
    "coBoughtGraph = Graph()\n",
    "vertices = list()\n",
    "\n",
    "for key, value in pairCounts.iteritems():\n",
    "    \n",
    "    for user in key:\n",
    "        if not user in vertices:\n",
    "            coBoughtGraph.add_vertex(user)\n",
    "            vertices.append(user)\n",
    "    \n",
    "    coBoughtGraph.add_edge(key[0], key[1], weight=value )"
   ]
  },
  {
   "cell_type": "code",
   "execution_count": null,
   "metadata": {
    "collapsed": true
   },
   "outputs": [],
   "source": [
    "coBoughtGraph.write_graphml(\"graphFile\")"
   ]
  },
  {
   "cell_type": "code",
   "execution_count": null,
   "metadata": {
    "collapsed": true
   },
   "outputs": [],
   "source": []
  }
 ],
 "metadata": {
  "kernelspec": {
   "display_name": "Python 2",
   "language": "python",
   "name": "python2"
  },
  "language_info": {
   "codemirror_mode": {
    "name": "ipython",
    "version": 2
   },
   "file_extension": ".py",
   "mimetype": "text/x-python",
   "name": "python",
   "nbconvert_exporter": "python",
   "pygments_lexer": "ipython2",
   "version": "2.7.10"
  }
 },
 "nbformat": 4,
 "nbformat_minor": 0
}
